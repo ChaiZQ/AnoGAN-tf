{
 "cells": [
  {
   "cell_type": "code",
   "execution_count": 4,
   "metadata": {
    "collapsed": true
   },
   "outputs": [],
   "source": [
    "reset -f"
   ]
  },
  {
   "cell_type": "code",
   "execution_count": 7,
   "metadata": {
    "collapsed": true
   },
   "outputs": [],
   "source": [
    "%matplotlib inline\n",
    "\n",
    "import numpy as np\n",
    "import tensorflow as tf\n",
    "\n",
    "from anogan.anogan import AnoGAN"
   ]
  },
  {
   "cell_type": "code",
   "execution_count": 8,
   "metadata": {},
   "outputs": [
    {
     "name": "stdout",
     "output_type": "stream",
     "text": [
      "[[ 0.06423701 -0.05292861 -0.06739971  0.1481674  -0.03426283 -0.0658543\n",
      "   0.15114091  0.17723976  0.18961467 -0.179244   -0.03900213  0.05485345\n",
      "  -0.0239905  -0.14240296 -0.20233718 -0.18082926  0.16850027  0.10332324\n",
      "   0.14895792  0.08952937 -0.03209295  0.0761537   0.18253918  0.19442572\n",
      "  -0.17312014  0.05590475 -0.03856748  0.12352955 -0.06156121 -0.13444327\n",
      "   0.0567967  -0.01805074  0.10091129 -0.1293073   0.0237614   0.10867801\n",
      "  -0.0341057   0.21769708 -0.12701176  0.15702847  0.22033864  0.25748253\n",
      "  -0.17288446  0.21573867 -0.15972567 -0.04817355 -0.13431475 -0.01651922\n",
      "   0.17065535  0.12397718  0.10192098  0.23872034 -0.1845701   0.11363997\n",
      "  -0.2197949   0.0147162  -0.13042697 -0.01864545  0.02979025  0.09879938\n",
      "  -0.16288483 -0.14699639 -0.01950333  0.01679298 -0.10117094 -0.13772792\n",
      "  -0.08913095  0.08892591 -0.07829826 -0.07673536 -0.17543218 -0.12195963\n",
      "   0.16210258  0.18595198 -0.21268716  0.14960039 -0.12694553 -0.10620004\n",
      "   0.02593562  0.06815221 -0.15038878  0.07334827 -0.16477174  0.25156742\n",
      "   0.12374266  0.07597155  0.09803588  0.10327598 -0.08920362  0.16595522\n",
      "   0.04409239 -0.06704528  0.11353084  0.12474416 -0.02873507  0.28019625\n",
      "   0.07931921  0.0948922   0.02523945  0.08107487]]\n",
      "0.0173383 0.130341\n"
     ]
    }
   ],
   "source": [
    "tf.reset_default_graph()\n",
    "\n",
    "model = AnoGAN()\n",
    "\n",
    "eval = model.train()\n",
    "\n",
    "print(eval)\n",
    "print(np.mean(eval), np.std(eval))"
   ]
  },
  {
   "cell_type": "code",
   "execution_count": null,
   "metadata": {
    "collapsed": true
   },
   "outputs": [],
   "source": []
  }
 ],
 "metadata": {
  "kernelspec": {
   "display_name": "Python 3",
   "language": "python",
   "name": "python3"
  },
  "language_info": {
   "codemirror_mode": {
    "name": "ipython",
    "version": 3
   },
   "file_extension": ".py",
   "mimetype": "text/x-python",
   "name": "python",
   "nbconvert_exporter": "python",
   "pygments_lexer": "ipython3",
   "version": "3.6.3"
  }
 },
 "nbformat": 4,
 "nbformat_minor": 2
}
